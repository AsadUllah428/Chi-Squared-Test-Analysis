{
 "cells": [
  {
   "cell_type": "code",
   "execution_count": 1,
   "metadata": {},
   "outputs": [
    {
     "name": "stdout",
     "output_type": "stream",
     "text": [
      "Contingency Table:\n",
      "         Category A  Category B\n",
      "Group 1          30          20\n",
      "Group 2          10          40\n"
     ]
    }
   ],
   "source": [
    "import pandas as pd\n",
    "import numpy as np\n",
    "from scipy import stats\n",
    "\n",
    "# A = stats.poisson.rvs(mu=18, loc=1, size=30)\n",
    "# B = stats.poisson.rvs(mu=33, loc=1, size=30)\n",
    "\n",
    "# contingency_table = pd.DataFrame({\"A\": A, \"B\": B})\n",
    "# OR\n",
    "\n",
    "# Step 1: Create two categorical variables (simulating counts in categories)\n",
    "data = {\n",
    "    'Category A': [30, 10],  # Counts for Group 1\n",
    "    'Category B': [20, 40]   # Counts for Group 2\n",
    "}\n",
    "\n",
    "# Create a DataFrame (contingency table)\n",
    "contingency_table = pd.DataFrame(data, index=['Group 1', 'Group 2'])\n",
    "\n",
    "print(\"Contingency Table:\")\n",
    "print(contingency_table)"
   ]
  },
  {
   "cell_type": "code",
   "execution_count": 2,
   "metadata": {},
   "outputs": [
    {
     "name": "stdout",
     "output_type": "stream",
     "text": [
      "\n",
      "Chi-squared Statistic: 15.041666666666668\n",
      "p-value: 0.00010516355403363114\n",
      "Degrees of Freedom: 1\n",
      "Expected Frequencies:\n",
      " [[20. 30.]\n",
      " [20. 30.]]\n"
     ]
    }
   ],
   "source": [
    "# Step 2: Perform Chi-squared test\n",
    "chi2_stat, p_value, dof, expected = stats.chi2_contingency(contingency_table)\n",
    "\n",
    "# Step 3: Print the results\n",
    "print(\"\\nChi-squared Statistic:\", chi2_stat)\n",
    "print(\"p-value:\", p_value)\n",
    "print(\"Degrees of Freedom:\", dof)\n",
    "print(\"Expected Frequencies:\\n\", expected)"
   ]
  },
  {
   "cell_type": "code",
   "execution_count": 3,
   "metadata": {},
   "outputs": [
    {
     "name": "stdout",
     "output_type": "stream",
     "text": [
      "\n",
      "Reject the null hypothesis: There is a significant association between the two variables.\n"
     ]
    }
   ],
   "source": [
    "# Interpretation\n",
    "alpha = 0.05  # Significance level\n",
    "if p_value < alpha:\n",
    "    print(\"\\nReject the null hypothesis: There is a significant association between the two variables.\")\n",
    "else:\n",
    "    print(\"\\nFail to reject the null hypothesis: No significant association between the two variables.\")"
   ]
  }
 ],
 "metadata": {
  "kernelspec": {
   "display_name": "Python 3",
   "language": "python",
   "name": "python3"
  },
  "language_info": {
   "codemirror_mode": {
    "name": "ipython",
    "version": 3
   },
   "file_extension": ".py",
   "mimetype": "text/x-python",
   "name": "python",
   "nbconvert_exporter": "python",
   "pygments_lexer": "ipython3",
   "version": "3.13.0"
  }
 },
 "nbformat": 4,
 "nbformat_minor": 2
}
